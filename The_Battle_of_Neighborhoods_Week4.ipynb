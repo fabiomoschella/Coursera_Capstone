{
  "nbformat": 4,
  "nbformat_minor": 0,
  "metadata": {
    "colab": {
      "name": "The Battle of Neighborhoods-Week4.ipynb",
      "provenance": [],
      "authorship_tag": "ABX9TyPOSYOzqkM4ZRxDeDPcRDj1"
    },
    "kernelspec": {
      "name": "python3",
      "display_name": "Python 3"
    }
  },
  "cells": [
    {
      "cell_type": "markdown",
      "metadata": {
        "id": "zwVe-2lcV9wM",
        "colab_type": "text"
      },
      "source": [
        "### **Introduction¶**\n",
        "The aim of this project is to advise where it is convenient to open a new restaurant based on the distribution of restaurants, comparisons made between Toronto and New York.\n"
      ]
    },
    {
      "cell_type": "markdown",
      "metadata": {
        "id": "c11CTW-Vlfd_",
        "colab_type": "text"
      },
      "source": [
        "### **Business problem**"
      ]
    },
    {
      "cell_type": "markdown",
      "metadata": {
        "id": "PFeHFm54lFMr",
        "colab_type": "text"
      },
      "source": [
        "In order to explore the restaurant information. We will have the need to use some information about the Localities in New York City And Toronto. We must be sure that the place where the restaurant joint is opened will have enough customers and also that there aren't a large amount of restaurant joints in the place. For this reason, we need to analyze different scenarios in the area to make sure that the restaurant will be successful in the area. We are going to try to avoid others restaurant Joint in the area and we are looking for a area where there are:\n",
        "\n",
        "different district school information\n",
        "restaurant information\n",
        "For this project we are mainly concerned with the area around two cities to setup a restaurant Joint to ensure maximum profitability for new business.\n"
      ]
    },
    {
      "cell_type": "markdown",
      "metadata": {
        "id": "47_n3VqiOB5U",
        "colab_type": "text"
      },
      "source": [
        "### **Data**"
      ]
    },
    {
      "cell_type": "markdown",
      "metadata": {
        "id": "V0bNoLxaP8wJ",
        "colab_type": "text"
      },
      "source": [
        "\n",
        "To choose the restaurant, we will need to access following data:\n",
        "\n",
        "* Neighbourhoods in [Toronto](https://en.wikipedia.org/wiki/List_of_neighbourhoods_in_Toronto)\n",
        "\n",
        "From the table above, we are going to extra the data to build our analysis.\n",
        "\n",
        "The coordinates (latitude, longitude) of Toronto are gather from the Foursquare API. \n",
        "We are going to work with this type of maps to identify our venues locations:\n",
        "\n",
        "From Foursquare we will need following venues data:\n",
        "- different restaurant information.\n",
        "We will then leverage the data in order to determine which locality is the most appropriate in order to locate the restaurant joint.\n"
      ]
    }
  ]
}
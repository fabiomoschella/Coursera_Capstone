{
  "nbformat": 4,
  "nbformat_minor": 0,
  "metadata": {
    "colab": {
      "name": "FM_Capstone_Project_Notebook.ipynb",
      "provenance": [],
      "collapsed_sections": [],
      "authorship_tag": "ABX9TyOv87LdHQ4FaC5xHPG/zSAy",
      "include_colab_link": true
    },
    "kernelspec": {
      "name": "python3",
      "display_name": "Python 3"
    }
  },
  "cells": [
    {
      "cell_type": "markdown",
      "metadata": {
        "id": "view-in-github",
        "colab_type": "text"
      },
      "source": [
        "<a href=\"https://colab.research.google.com/github/fabiomoschella/Coursera_Capstone/blob/master/FM_Capstone_Project_Notebook.ipynb\" target=\"_parent\"><img src=\"https://colab.research.google.com/assets/colab-badge.svg\" alt=\"Open In Colab\"/></a>"
      ]
    },
    {
      "cell_type": "markdown",
      "metadata": {
        "id": "68Sspq5LWgaW",
        "colab_type": "text"
      },
      "source": [
        "###Segmenting and Clustering Neighborhoods in Toronto¶\n",
        "###PART 1:"
      ]
    },
    {
      "cell_type": "code",
      "metadata": {
        "id": "cRNXtEjyWqjY",
        "colab_type": "code",
        "colab": {}
      },
      "source": [
        "import pandas as pd\n",
        "import numpy  as np\n"
      ],
      "execution_count": 0,
      "outputs": []
    },
    {
      "cell_type": "markdown",
      "metadata": {
        "id": "irXlz5d8Yk8c",
        "colab_type": "text"
      },
      "source": [
        "I use only pandas method  for extract the table  and an old wikipedia link with correct table \n"
      ]
    },
    {
      "cell_type": "code",
      "metadata": {
        "id": "d4fk7R6wW0WA",
        "colab_type": "code",
        "colab": {}
      },
      "source": [
        "HtmlWeb='https://en.wikipedia.org/w/index.php?title=List_of_postal_codes_of_Canada:_M&oldid=890001695'\n",
        "df = pd.read_html(HtmlWeb, header = 0)[0]\n",
        "df.rename(columns={'Postcode':'Postalcode'},inplace=True)\n",
        "\n"
      ],
      "execution_count": 0,
      "outputs": []
    },
    {
      "cell_type": "markdown",
      "metadata": {
        "id": "8lQu8KokYxKv",
        "colab_type": "text"
      },
      "source": [
        "We process only Postcode with borough assigned,skipped everything else.\n"
      ]
    },
    {
      "cell_type": "code",
      "metadata": {
        "id": "T8mxK8rgY9DL",
        "colab_type": "code",
        "outputId": "c4b89dcb-478b-45d1-c3ba-1c2634c2f26e",
        "colab": {
          "base_uri": "https://localhost:8080/",
          "height": 195
        }
      },
      "source": [
        "df = df[df.Borough != 'Not assigned']\n",
        "df.head()\n"
      ],
      "execution_count": 3,
      "outputs": [
        {
          "output_type": "execute_result",
          "data": {
            "text/html": [
              "<div>\n",
              "<style scoped>\n",
              "    .dataframe tbody tr th:only-of-type {\n",
              "        vertical-align: middle;\n",
              "    }\n",
              "\n",
              "    .dataframe tbody tr th {\n",
              "        vertical-align: top;\n",
              "    }\n",
              "\n",
              "    .dataframe thead th {\n",
              "        text-align: right;\n",
              "    }\n",
              "</style>\n",
              "<table border=\"1\" class=\"dataframe\">\n",
              "  <thead>\n",
              "    <tr style=\"text-align: right;\">\n",
              "      <th></th>\n",
              "      <th>Postalcode</th>\n",
              "      <th>Borough</th>\n",
              "      <th>Neighbourhood</th>\n",
              "    </tr>\n",
              "  </thead>\n",
              "  <tbody>\n",
              "    <tr>\n",
              "      <th>2</th>\n",
              "      <td>M3A</td>\n",
              "      <td>North York</td>\n",
              "      <td>Parkwoods</td>\n",
              "    </tr>\n",
              "    <tr>\n",
              "      <th>3</th>\n",
              "      <td>M4A</td>\n",
              "      <td>North York</td>\n",
              "      <td>Victoria Village</td>\n",
              "    </tr>\n",
              "    <tr>\n",
              "      <th>4</th>\n",
              "      <td>M5A</td>\n",
              "      <td>Downtown Toronto</td>\n",
              "      <td>Harbourfront</td>\n",
              "    </tr>\n",
              "    <tr>\n",
              "      <th>5</th>\n",
              "      <td>M5A</td>\n",
              "      <td>Downtown Toronto</td>\n",
              "      <td>Regent Park</td>\n",
              "    </tr>\n",
              "    <tr>\n",
              "      <th>6</th>\n",
              "      <td>M6A</td>\n",
              "      <td>North York</td>\n",
              "      <td>Lawrence Heights</td>\n",
              "    </tr>\n",
              "  </tbody>\n",
              "</table>\n",
              "</div>"
            ],
            "text/plain": [
              "  Postalcode           Borough     Neighbourhood\n",
              "2        M3A        North York         Parkwoods\n",
              "3        M4A        North York  Victoria Village\n",
              "4        M5A  Downtown Toronto      Harbourfront\n",
              "5        M5A  Downtown Toronto       Regent Park\n",
              "6        M6A        North York  Lawrence Heights"
            ]
          },
          "metadata": {
            "tags": []
          },
          "execution_count": 3
        }
      ]
    },
    {
      "cell_type": "markdown",
      "metadata": {
        "id": "jiOMnh7UZMT0",
        "colab_type": "text"
      },
      "source": [
        "If a cell has a borough but a Not assigned neighborhood, then the neighborhood will be the same as the borough. "
      ]
    },
    {
      "cell_type": "code",
      "metadata": {
        "id": "AUpGjF2Jv6aZ",
        "colab_type": "code",
        "outputId": "2cdf59a0-5adc-472f-ce94-afa33dbbeeb0",
        "colab": {
          "base_uri": "https://localhost:8080/",
          "height": 195
        }
      },
      "source": [
        "for index, row in df.iterrows():\n",
        "    if row['Neighbourhood'] == 'Not assigned':\n",
        "        row['Neighbourhood'] = row['Borough']\n",
        "df.head()"
      ],
      "execution_count": 4,
      "outputs": [
        {
          "output_type": "execute_result",
          "data": {
            "text/html": [
              "<div>\n",
              "<style scoped>\n",
              "    .dataframe tbody tr th:only-of-type {\n",
              "        vertical-align: middle;\n",
              "    }\n",
              "\n",
              "    .dataframe tbody tr th {\n",
              "        vertical-align: top;\n",
              "    }\n",
              "\n",
              "    .dataframe thead th {\n",
              "        text-align: right;\n",
              "    }\n",
              "</style>\n",
              "<table border=\"1\" class=\"dataframe\">\n",
              "  <thead>\n",
              "    <tr style=\"text-align: right;\">\n",
              "      <th></th>\n",
              "      <th>Postalcode</th>\n",
              "      <th>Borough</th>\n",
              "      <th>Neighbourhood</th>\n",
              "    </tr>\n",
              "  </thead>\n",
              "  <tbody>\n",
              "    <tr>\n",
              "      <th>2</th>\n",
              "      <td>M3A</td>\n",
              "      <td>North York</td>\n",
              "      <td>Parkwoods</td>\n",
              "    </tr>\n",
              "    <tr>\n",
              "      <th>3</th>\n",
              "      <td>M4A</td>\n",
              "      <td>North York</td>\n",
              "      <td>Victoria Village</td>\n",
              "    </tr>\n",
              "    <tr>\n",
              "      <th>4</th>\n",
              "      <td>M5A</td>\n",
              "      <td>Downtown Toronto</td>\n",
              "      <td>Harbourfront</td>\n",
              "    </tr>\n",
              "    <tr>\n",
              "      <th>5</th>\n",
              "      <td>M5A</td>\n",
              "      <td>Downtown Toronto</td>\n",
              "      <td>Regent Park</td>\n",
              "    </tr>\n",
              "    <tr>\n",
              "      <th>6</th>\n",
              "      <td>M6A</td>\n",
              "      <td>North York</td>\n",
              "      <td>Lawrence Heights</td>\n",
              "    </tr>\n",
              "  </tbody>\n",
              "</table>\n",
              "</div>"
            ],
            "text/plain": [
              "  Postalcode           Borough     Neighbourhood\n",
              "2        M3A        North York         Parkwoods\n",
              "3        M4A        North York  Victoria Village\n",
              "4        M5A  Downtown Toronto      Harbourfront\n",
              "5        M5A  Downtown Toronto       Regent Park\n",
              "6        M6A        North York  Lawrence Heights"
            ]
          },
          "metadata": {
            "tags": []
          },
          "execution_count": 4
        }
      ]
    },
    {
      "cell_type": "markdown",
      "metadata": {
        "id": "_wUeZRZwiZC1",
        "colab_type": "text"
      },
      "source": [
        "More than one neighborhood can exist in one postal code area. These multiple rows will be combined into one row with the neighborhoods separated with a comma.\n",
        "\n"
      ]
    },
    {
      "cell_type": "code",
      "metadata": {
        "id": "xB1JW96mialM",
        "colab_type": "code",
        "outputId": "12c01861-dd78-4ee7-8ba9-c297a7a1096e",
        "colab": {
          "base_uri": "https://localhost:8080/",
          "height": 195
        }
      },
      "source": [
        "df = df.groupby(['Borough', 'Postalcode'])['Neighbourhood'].apply(list).apply(lambda x:', '.join(x)).to_frame().reset_index()\n",
        "df.head()\n"
      ],
      "execution_count": 5,
      "outputs": [
        {
          "output_type": "execute_result",
          "data": {
            "text/html": [
              "<div>\n",
              "<style scoped>\n",
              "    .dataframe tbody tr th:only-of-type {\n",
              "        vertical-align: middle;\n",
              "    }\n",
              "\n",
              "    .dataframe tbody tr th {\n",
              "        vertical-align: top;\n",
              "    }\n",
              "\n",
              "    .dataframe thead th {\n",
              "        text-align: right;\n",
              "    }\n",
              "</style>\n",
              "<table border=\"1\" class=\"dataframe\">\n",
              "  <thead>\n",
              "    <tr style=\"text-align: right;\">\n",
              "      <th></th>\n",
              "      <th>Borough</th>\n",
              "      <th>Postalcode</th>\n",
              "      <th>Neighbourhood</th>\n",
              "    </tr>\n",
              "  </thead>\n",
              "  <tbody>\n",
              "    <tr>\n",
              "      <th>0</th>\n",
              "      <td>Central Toronto</td>\n",
              "      <td>M4N</td>\n",
              "      <td>Lawrence Park</td>\n",
              "    </tr>\n",
              "    <tr>\n",
              "      <th>1</th>\n",
              "      <td>Central Toronto</td>\n",
              "      <td>M4P</td>\n",
              "      <td>Davisville North</td>\n",
              "    </tr>\n",
              "    <tr>\n",
              "      <th>2</th>\n",
              "      <td>Central Toronto</td>\n",
              "      <td>M4R</td>\n",
              "      <td>North Toronto West</td>\n",
              "    </tr>\n",
              "    <tr>\n",
              "      <th>3</th>\n",
              "      <td>Central Toronto</td>\n",
              "      <td>M4S</td>\n",
              "      <td>Davisville</td>\n",
              "    </tr>\n",
              "    <tr>\n",
              "      <th>4</th>\n",
              "      <td>Central Toronto</td>\n",
              "      <td>M4T</td>\n",
              "      <td>Moore Park, Summerhill East</td>\n",
              "    </tr>\n",
              "  </tbody>\n",
              "</table>\n",
              "</div>"
            ],
            "text/plain": [
              "           Borough Postalcode                Neighbourhood\n",
              "0  Central Toronto        M4N                Lawrence Park\n",
              "1  Central Toronto        M4P             Davisville North\n",
              "2  Central Toronto        M4R           North Toronto West\n",
              "3  Central Toronto        M4S                   Davisville\n",
              "4  Central Toronto        M4T  Moore Park, Summerhill East"
            ]
          },
          "metadata": {
            "tags": []
          },
          "execution_count": 5
        }
      ]
    },
    {
      "cell_type": "markdown",
      "metadata": {
        "id": "0Jg8BYZ8YcnN",
        "colab_type": "text"
      },
      "source": [
        "Totale records\n"
      ]
    },
    {
      "cell_type": "code",
      "metadata": {
        "id": "RHu0oa6Khm1K",
        "colab_type": "code",
        "outputId": "278477d3-b045-4826-b3e9-1015a42fd001",
        "colab": {
          "base_uri": "https://localhost:8080/",
          "height": 34
        }
      },
      "source": [
        "df.shape"
      ],
      "execution_count": 6,
      "outputs": [
        {
          "output_type": "execute_result",
          "data": {
            "text/plain": [
              "(103, 3)"
            ]
          },
          "metadata": {
            "tags": []
          },
          "execution_count": 6
        }
      ]
    },
    {
      "cell_type": "markdown",
      "metadata": {
        "id": "ERWqVS--i1m1",
        "colab_type": "text"
      },
      "source": [
        "###PART 2:\n",
        "\n"
      ]
    },
    {
      "cell_type": "markdown",
      "metadata": {
        "id": "OyilzRONtfsX",
        "colab_type": "text"
      },
      "source": [
        "Use the Geocoder package to get the latitude and the longitude coordinates for all the neighborhoods in our dataframe. \n",
        "\n"
      ]
    },
    {
      "cell_type": "code",
      "metadata": {
        "id": "I872L9rlt4PC",
        "colab_type": "code",
        "outputId": "e286bc25-aafb-43a1-c3f3-c18ee66109f9",
        "colab": {
          "base_uri": "https://localhost:8080/",
          "height": 210
        }
      },
      "source": [
        "!pip install  geocoder \n",
        "\n",
        "import geocoder\n",
        "import pandas as pd\n",
        "import numpy as np"
      ],
      "execution_count": 7,
      "outputs": [
        {
          "output_type": "stream",
          "text": [
            "Requirement already satisfied: geocoder in /usr/local/lib/python3.6/dist-packages (1.38.1)\n",
            "Requirement already satisfied: ratelim in /usr/local/lib/python3.6/dist-packages (from geocoder) (0.1.6)\n",
            "Requirement already satisfied: future in /usr/local/lib/python3.6/dist-packages (from geocoder) (0.16.0)\n",
            "Requirement already satisfied: click in /usr/local/lib/python3.6/dist-packages (from geocoder) (7.1.1)\n",
            "Requirement already satisfied: six in /usr/local/lib/python3.6/dist-packages (from geocoder) (1.12.0)\n",
            "Requirement already satisfied: requests in /usr/local/lib/python3.6/dist-packages (from geocoder) (2.21.0)\n",
            "Requirement already satisfied: decorator in /usr/local/lib/python3.6/dist-packages (from ratelim->geocoder) (4.4.2)\n",
            "Requirement already satisfied: urllib3<1.25,>=1.21.1 in /usr/local/lib/python3.6/dist-packages (from requests->geocoder) (1.24.3)\n",
            "Requirement already satisfied: chardet<3.1.0,>=3.0.2 in /usr/local/lib/python3.6/dist-packages (from requests->geocoder) (3.0.4)\n",
            "Requirement already satisfied: certifi>=2017.4.17 in /usr/local/lib/python3.6/dist-packages (from requests->geocoder) (2020.4.5.1)\n",
            "Requirement already satisfied: idna<2.9,>=2.5 in /usr/local/lib/python3.6/dist-packages (from requests->geocoder) (2.8)\n"
          ],
          "name": "stdout"
        }
      ]
    },
    {
      "cell_type": "markdown",
      "metadata": {
        "id": "geBwoNAeyBPG",
        "colab_type": "text"
      },
      "source": [
        "Read the file csv and rename the column 'Postal Code'  for the join subsequently."
      ]
    },
    {
      "cell_type": "code",
      "metadata": {
        "id": "yzdI4MxZtyG3",
        "colab_type": "code",
        "outputId": "7fa8bffc-d06a-43d3-8820-71775c154c36",
        "colab": {
          "base_uri": "https://localhost:8080/",
          "height": 402
        }
      },
      "source": [
        "csvfile='http://cocl.us/Geospatial_data'\n",
        "dfGeo = pd.read_csv(csvfile)\n",
        "dfGeo.rename(columns={'Postal Code':'Postalcode'},inplace=True)\n",
        "dfGeo"
      ],
      "execution_count": 8,
      "outputs": [
        {
          "output_type": "execute_result",
          "data": {
            "text/html": [
              "<div>\n",
              "<style scoped>\n",
              "    .dataframe tbody tr th:only-of-type {\n",
              "        vertical-align: middle;\n",
              "    }\n",
              "\n",
              "    .dataframe tbody tr th {\n",
              "        vertical-align: top;\n",
              "    }\n",
              "\n",
              "    .dataframe thead th {\n",
              "        text-align: right;\n",
              "    }\n",
              "</style>\n",
              "<table border=\"1\" class=\"dataframe\">\n",
              "  <thead>\n",
              "    <tr style=\"text-align: right;\">\n",
              "      <th></th>\n",
              "      <th>Postalcode</th>\n",
              "      <th>Latitude</th>\n",
              "      <th>Longitude</th>\n",
              "    </tr>\n",
              "  </thead>\n",
              "  <tbody>\n",
              "    <tr>\n",
              "      <th>0</th>\n",
              "      <td>M1B</td>\n",
              "      <td>43.806686</td>\n",
              "      <td>-79.194353</td>\n",
              "    </tr>\n",
              "    <tr>\n",
              "      <th>1</th>\n",
              "      <td>M1C</td>\n",
              "      <td>43.784535</td>\n",
              "      <td>-79.160497</td>\n",
              "    </tr>\n",
              "    <tr>\n",
              "      <th>2</th>\n",
              "      <td>M1E</td>\n",
              "      <td>43.763573</td>\n",
              "      <td>-79.188711</td>\n",
              "    </tr>\n",
              "    <tr>\n",
              "      <th>3</th>\n",
              "      <td>M1G</td>\n",
              "      <td>43.770992</td>\n",
              "      <td>-79.216917</td>\n",
              "    </tr>\n",
              "    <tr>\n",
              "      <th>4</th>\n",
              "      <td>M1H</td>\n",
              "      <td>43.773136</td>\n",
              "      <td>-79.239476</td>\n",
              "    </tr>\n",
              "    <tr>\n",
              "      <th>...</th>\n",
              "      <td>...</td>\n",
              "      <td>...</td>\n",
              "      <td>...</td>\n",
              "    </tr>\n",
              "    <tr>\n",
              "      <th>98</th>\n",
              "      <td>M9N</td>\n",
              "      <td>43.706876</td>\n",
              "      <td>-79.518188</td>\n",
              "    </tr>\n",
              "    <tr>\n",
              "      <th>99</th>\n",
              "      <td>M9P</td>\n",
              "      <td>43.696319</td>\n",
              "      <td>-79.532242</td>\n",
              "    </tr>\n",
              "    <tr>\n",
              "      <th>100</th>\n",
              "      <td>M9R</td>\n",
              "      <td>43.688905</td>\n",
              "      <td>-79.554724</td>\n",
              "    </tr>\n",
              "    <tr>\n",
              "      <th>101</th>\n",
              "      <td>M9V</td>\n",
              "      <td>43.739416</td>\n",
              "      <td>-79.588437</td>\n",
              "    </tr>\n",
              "    <tr>\n",
              "      <th>102</th>\n",
              "      <td>M9W</td>\n",
              "      <td>43.706748</td>\n",
              "      <td>-79.594054</td>\n",
              "    </tr>\n",
              "  </tbody>\n",
              "</table>\n",
              "<p>103 rows × 3 columns</p>\n",
              "</div>"
            ],
            "text/plain": [
              "    Postalcode   Latitude  Longitude\n",
              "0          M1B  43.806686 -79.194353\n",
              "1          M1C  43.784535 -79.160497\n",
              "2          M1E  43.763573 -79.188711\n",
              "3          M1G  43.770992 -79.216917\n",
              "4          M1H  43.773136 -79.239476\n",
              "..         ...        ...        ...\n",
              "98         M9N  43.706876 -79.518188\n",
              "99         M9P  43.696319 -79.532242\n",
              "100        M9R  43.688905 -79.554724\n",
              "101        M9V  43.739416 -79.588437\n",
              "102        M9W  43.706748 -79.594054\n",
              "\n",
              "[103 rows x 3 columns]"
            ]
          },
          "metadata": {
            "tags": []
          },
          "execution_count": 8
        }
      ]
    },
    {
      "cell_type": "markdown",
      "metadata": {
        "id": "PohhNTGq3Nvw",
        "colab_type": "text"
      },
      "source": [
        "Simple Join Dataframe between Borough and Geo information"
      ]
    },
    {
      "cell_type": "code",
      "metadata": {
        "id": "C-x6tJCFEo7k",
        "colab_type": "code",
        "colab": {
          "base_uri": "https://localhost:8080/",
          "height": 402
        },
        "outputId": "cecf75fd-a06d-423e-8600-3eaf90dd8403"
      },
      "source": [
        "sKey='Postalcode'\n",
        "#BEGIN   \n",
        "if sKey in df.columns: \n",
        "  df.set_index(sKey,inplace=True)\n",
        "   \n",
        "if sKey in dfGeo.columns: \n",
        "   dfGeo.set_index(sKey,inplace=True)\n",
        "#END \n",
        "\n",
        "dfFinal= df.join(dfGeo,on='Postalcode',rsuffix='right_')\n",
        "\n",
        "df.reset_index(inplace=True)\n",
        "dfGeo.reset_index(inplace=True)\n",
        "dfFinal.reset_index(inplace=True) \n",
        "\n",
        "dfFinal"
      ],
      "execution_count": 9,
      "outputs": [
        {
          "output_type": "execute_result",
          "data": {
            "text/html": [
              "<div>\n",
              "<style scoped>\n",
              "    .dataframe tbody tr th:only-of-type {\n",
              "        vertical-align: middle;\n",
              "    }\n",
              "\n",
              "    .dataframe tbody tr th {\n",
              "        vertical-align: top;\n",
              "    }\n",
              "\n",
              "    .dataframe thead th {\n",
              "        text-align: right;\n",
              "    }\n",
              "</style>\n",
              "<table border=\"1\" class=\"dataframe\">\n",
              "  <thead>\n",
              "    <tr style=\"text-align: right;\">\n",
              "      <th></th>\n",
              "      <th>Postalcode</th>\n",
              "      <th>Borough</th>\n",
              "      <th>Neighbourhood</th>\n",
              "      <th>Latitude</th>\n",
              "      <th>Longitude</th>\n",
              "    </tr>\n",
              "  </thead>\n",
              "  <tbody>\n",
              "    <tr>\n",
              "      <th>0</th>\n",
              "      <td>M4N</td>\n",
              "      <td>Central Toronto</td>\n",
              "      <td>Lawrence Park</td>\n",
              "      <td>43.728020</td>\n",
              "      <td>-79.388790</td>\n",
              "    </tr>\n",
              "    <tr>\n",
              "      <th>1</th>\n",
              "      <td>M4P</td>\n",
              "      <td>Central Toronto</td>\n",
              "      <td>Davisville North</td>\n",
              "      <td>43.712751</td>\n",
              "      <td>-79.390197</td>\n",
              "    </tr>\n",
              "    <tr>\n",
              "      <th>2</th>\n",
              "      <td>M4R</td>\n",
              "      <td>Central Toronto</td>\n",
              "      <td>North Toronto West</td>\n",
              "      <td>43.715383</td>\n",
              "      <td>-79.405678</td>\n",
              "    </tr>\n",
              "    <tr>\n",
              "      <th>3</th>\n",
              "      <td>M4S</td>\n",
              "      <td>Central Toronto</td>\n",
              "      <td>Davisville</td>\n",
              "      <td>43.704324</td>\n",
              "      <td>-79.388790</td>\n",
              "    </tr>\n",
              "    <tr>\n",
              "      <th>4</th>\n",
              "      <td>M4T</td>\n",
              "      <td>Central Toronto</td>\n",
              "      <td>Moore Park, Summerhill East</td>\n",
              "      <td>43.689574</td>\n",
              "      <td>-79.383160</td>\n",
              "    </tr>\n",
              "    <tr>\n",
              "      <th>...</th>\n",
              "      <td>...</td>\n",
              "      <td>...</td>\n",
              "      <td>...</td>\n",
              "      <td>...</td>\n",
              "      <td>...</td>\n",
              "    </tr>\n",
              "    <tr>\n",
              "      <th>98</th>\n",
              "      <td>M6C</td>\n",
              "      <td>York</td>\n",
              "      <td>Humewood-Cedarvale</td>\n",
              "      <td>43.693781</td>\n",
              "      <td>-79.428191</td>\n",
              "    </tr>\n",
              "    <tr>\n",
              "      <th>99</th>\n",
              "      <td>M6E</td>\n",
              "      <td>York</td>\n",
              "      <td>Caledonia-Fairbanks</td>\n",
              "      <td>43.689026</td>\n",
              "      <td>-79.453512</td>\n",
              "    </tr>\n",
              "    <tr>\n",
              "      <th>100</th>\n",
              "      <td>M6M</td>\n",
              "      <td>York</td>\n",
              "      <td>Del Ray, Keelesdale, Mount Dennis, Silverthorn</td>\n",
              "      <td>43.691116</td>\n",
              "      <td>-79.476013</td>\n",
              "    </tr>\n",
              "    <tr>\n",
              "      <th>101</th>\n",
              "      <td>M6N</td>\n",
              "      <td>York</td>\n",
              "      <td>The Junction North, Runnymede</td>\n",
              "      <td>43.673185</td>\n",
              "      <td>-79.487262</td>\n",
              "    </tr>\n",
              "    <tr>\n",
              "      <th>102</th>\n",
              "      <td>M9N</td>\n",
              "      <td>York</td>\n",
              "      <td>Weston</td>\n",
              "      <td>43.706876</td>\n",
              "      <td>-79.518188</td>\n",
              "    </tr>\n",
              "  </tbody>\n",
              "</table>\n",
              "<p>103 rows × 5 columns</p>\n",
              "</div>"
            ],
            "text/plain": [
              "    Postalcode          Borough  ...   Latitude  Longitude\n",
              "0          M4N  Central Toronto  ...  43.728020 -79.388790\n",
              "1          M4P  Central Toronto  ...  43.712751 -79.390197\n",
              "2          M4R  Central Toronto  ...  43.715383 -79.405678\n",
              "3          M4S  Central Toronto  ...  43.704324 -79.388790\n",
              "4          M4T  Central Toronto  ...  43.689574 -79.383160\n",
              "..         ...              ...  ...        ...        ...\n",
              "98         M6C             York  ...  43.693781 -79.428191\n",
              "99         M6E             York  ...  43.689026 -79.453512\n",
              "100        M6M             York  ...  43.691116 -79.476013\n",
              "101        M6N             York  ...  43.673185 -79.487262\n",
              "102        M9N             York  ...  43.706876 -79.518188\n",
              "\n",
              "[103 rows x 5 columns]"
            ]
          },
          "metadata": {
            "tags": []
          },
          "execution_count": 9
        }
      ]
    },
    {
      "cell_type": "markdown",
      "metadata": {
        "id": "gJ0fMhrk33pz",
        "colab_type": "text"
      },
      "source": [
        ""
      ]
    },
    {
      "cell_type": "markdown",
      "metadata": {
        "id": "S0K10K7vvHYZ",
        "colab_type": "text"
      },
      "source": [
        "### Part 3: Folium Map"
      ]
    },
    {
      "cell_type": "markdown",
      "metadata": {
        "id": "xkPqF1X0F_9A",
        "colab_type": "text"
      },
      "source": [
        "Explore and cluster the neighborhoods in Toronto. You can decide to work with only boroughs that contain the word Toronto and then replicate the same analysis we did to the New York City data. It is up to you.\n",
        "\n",
        "Just make sure:\n",
        "1.   to add enough Markdown cells to explain what you decided to do and to report any observations you make.\n",
        "2.   to generate maps to visualize your neighborhoods and how they cluster together.\n",
        "\n"
      ]
    },
    {
      "cell_type": "code",
      "metadata": {
        "id": "0dHQVMnNGCDQ",
        "colab_type": "code",
        "colab": {
          "base_uri": "https://localhost:8080/",
          "height": 34
        },
        "outputId": "7788250d-9565-45b0-a2c7-795340efc175"
      },
      "source": [
        "#!pip install folium\n",
        "#!pip install  geopy \n",
        "from geopy.geocoders import Nominatim \n",
        "\n",
        "#with this library I take the latitude and longitude coordinates\n",
        "address = 'Toronto,ON'\n",
        "\n",
        "geolocator = Nominatim(user_agent=\"FM_Capstone_Project_Notebook\")\n",
        "location = geolocator.geocode(address)\n",
        "print('The geograpical coordinate of ',address,' are {}, {}.'.format(location.latitude, location.longitude))"
      ],
      "execution_count": 10,
      "outputs": [
        {
          "output_type": "stream",
          "text": [
            "The geograpical coordinate of  Toronto,ON  are 43.6534817, -79.3839347.\n"
          ],
          "name": "stdout"
        }
      ]
    },
    {
      "cell_type": "code",
      "metadata": {
        "id": "QVBHvhnjH4Y3",
        "colab_type": "code",
        "colab": {
          "base_uri": "https://localhost:8080/",
          "height": 858
        },
        "outputId": "28e5cad9-9fa7-446c-c3bb-d998685c0710"
      },
      "source": [
        "#!conda install -c conda-forge folium=0.5.0 --yes \n",
        "import folium # map rendering library\n",
        "\n",
        "# create map of Toronto using latitude and longitude values\n",
        "map_toronto = folium.Map(location=[location.latitude, location.longitude], zoom_start=11)\n",
        "\n",
        "# add markers to map\n",
        "for lat, lng, borough, neighbourhood in zip(dfFinal['Latitude'], dfFinal['Longitude'], dfFinal['Borough'], dfFinal['Neighbourhood']):\n",
        "    label = '{}, {}'.format(neighbourhood, borough)\n",
        "    label = folium.Popup(label, parse_html=True)\n",
        "    folium.CircleMarker(\n",
        "        [lat, lng],\n",
        "        radius=5,\n",
        "        popup=label,\n",
        "        color='green',\n",
        "        fill=True,\n",
        "        fill_color='#3186cc',\n",
        "        fill_opacity=0.7,\n",
        "        parse_html=False).add_to(map_toronto)  \n",
        "            \n",
        "map_toronto"
      ],
      "execution_count": 12,
      "outputs": [
        {
          "output_type": "execute_result",
          "data": {
            "text/html": [
              "<div style=\"width:100%;\"><div style=\"position:relative;width:100%;height:0;padding-bottom:60%;\"><iframe src=\"about:blank\" style=\"position:absolute;width:100%;height:100%;left:0;top:0;border:none !important;\" data-html=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 onload=\"this.contentDocument.open();this.contentDocument.write(atob(this.getAttribute('data-html')));this.contentDocument.close();\" allowfullscreen webkitallowfullscreen mozallowfullscreen></iframe></div></div>"
            ],
            "text/plain": [
              "<folium.folium.Map at 0x7f320bdfc668>"
            ]
          },
          "metadata": {
            "tags": []
          },
          "execution_count": 12
        }
      ]
    },
    {
      "cell_type": "code",
      "metadata": {
        "id": "hEaKw1JrKr2z",
        "colab_type": "code",
        "colab": {}
      },
      "source": [
        ""
      ],
      "execution_count": 0,
      "outputs": []
    }
  ]
}
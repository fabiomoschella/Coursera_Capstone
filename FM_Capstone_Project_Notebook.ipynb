{
  "nbformat": 4,
  "nbformat_minor": 0,
  "metadata": {
    "colab": {
      "name": "FM_Capstone_Project_Notebook.ipynb",
      "provenance": [],
      "collapsed_sections": [],
      "toc_visible": true,
      "authorship_tag": "ABX9TyPXHlcRwxwUJhgIbPZO2bkX",
      "include_colab_link": true
    },
    "kernelspec": {
      "name": "python3",
      "display_name": "Python 3"
    }
  },
  "cells": [
    {
      "cell_type": "markdown",
      "metadata": {
        "id": "view-in-github",
        "colab_type": "text"
      },
      "source": [
        "<a href=\"https://colab.research.google.com/github/fabiomoschella/Coursera_Capstone/blob/master/FM_Capstone_Project_Notebook.ipynb\" target=\"_parent\"><img src=\"https://colab.research.google.com/assets/colab-badge.svg\" alt=\"Open In Colab\"/></a>"
      ]
    },
    {
      "cell_type": "markdown",
      "metadata": {
        "id": "68Sspq5LWgaW",
        "colab_type": "text"
      },
      "source": [
        "###Segmenting and Clustering Neighborhoods in Toronto¶\n",
        "###PART 1:"
      ]
    },
    {
      "cell_type": "code",
      "metadata": {
        "id": "cRNXtEjyWqjY",
        "colab_type": "code",
        "colab": {}
      },
      "source": [
        "import warnings; warnings.simplefilter('ignore')\n",
        "import pandas as pd\n",
        "import numpy  as np\n",
        "import requests\n",
        "import folium\n",
        "import requests\n",
        "import folium\n",
        "import matplotlib.cm as cm\n",
        "from matplotlib import  pyplot as plt\n",
        "import matplotlib.colors as colors\n",
        "from sklearn.cluster import KMeans\n",
        "from pandas.io.json import json_normalize"
      ],
      "execution_count": 0,
      "outputs": []
    },
    {
      "cell_type": "markdown",
      "metadata": {
        "id": "irXlz5d8Yk8c",
        "colab_type": "text"
      },
      "source": [
        "I use only pandas method  for extract the table  and an old wikipedia link with correct table \n"
      ]
    },
    {
      "cell_type": "code",
      "metadata": {
        "id": "d4fk7R6wW0WA",
        "colab_type": "code",
        "colab": {}
      },
      "source": [
        "HtmlWeb='https://en.wikipedia.org/w/index.php?title=List_of_postal_codes_of_Canada:_M&oldid=890001695'\n",
        "df = pd.read_html(HtmlWeb, header = 0)[0]\n",
        "df.rename(columns={'Postcode':'Postalcode'},inplace=True)"
      ],
      "execution_count": 0,
      "outputs": []
    },
    {
      "cell_type": "markdown",
      "metadata": {
        "id": "8lQu8KokYxKv",
        "colab_type": "text"
      },
      "source": [
        "We process only Postcode with borough assigned,skipped everything else.\n"
      ]
    },
    {
      "cell_type": "code",
      "metadata": {
        "id": "T8mxK8rgY9DL",
        "colab_type": "code",
        "outputId": "d1e092d1-7712-4f9a-8af8-620430544afc",
        "colab": {
          "base_uri": "https://localhost:8080/",
          "height": 195
        }
      },
      "source": [
        "df = df[df.Borough != 'Not assigned']\n",
        "df.head()\n"
      ],
      "execution_count": 21,
      "outputs": [
        {
          "output_type": "execute_result",
          "data": {
            "text/html": [
              "<div>\n",
              "<style scoped>\n",
              "    .dataframe tbody tr th:only-of-type {\n",
              "        vertical-align: middle;\n",
              "    }\n",
              "\n",
              "    .dataframe tbody tr th {\n",
              "        vertical-align: top;\n",
              "    }\n",
              "\n",
              "    .dataframe thead th {\n",
              "        text-align: right;\n",
              "    }\n",
              "</style>\n",
              "<table border=\"1\" class=\"dataframe\">\n",
              "  <thead>\n",
              "    <tr style=\"text-align: right;\">\n",
              "      <th></th>\n",
              "      <th>Postalcode</th>\n",
              "      <th>Borough</th>\n",
              "      <th>Neighbourhood</th>\n",
              "    </tr>\n",
              "  </thead>\n",
              "  <tbody>\n",
              "    <tr>\n",
              "      <th>2</th>\n",
              "      <td>M3A</td>\n",
              "      <td>North York</td>\n",
              "      <td>Parkwoods</td>\n",
              "    </tr>\n",
              "    <tr>\n",
              "      <th>3</th>\n",
              "      <td>M4A</td>\n",
              "      <td>North York</td>\n",
              "      <td>Victoria Village</td>\n",
              "    </tr>\n",
              "    <tr>\n",
              "      <th>4</th>\n",
              "      <td>M5A</td>\n",
              "      <td>Downtown Toronto</td>\n",
              "      <td>Harbourfront</td>\n",
              "    </tr>\n",
              "    <tr>\n",
              "      <th>5</th>\n",
              "      <td>M5A</td>\n",
              "      <td>Downtown Toronto</td>\n",
              "      <td>Regent Park</td>\n",
              "    </tr>\n",
              "    <tr>\n",
              "      <th>6</th>\n",
              "      <td>M6A</td>\n",
              "      <td>North York</td>\n",
              "      <td>Lawrence Heights</td>\n",
              "    </tr>\n",
              "  </tbody>\n",
              "</table>\n",
              "</div>"
            ],
            "text/plain": [
              "  Postalcode           Borough     Neighbourhood\n",
              "2        M3A        North York         Parkwoods\n",
              "3        M4A        North York  Victoria Village\n",
              "4        M5A  Downtown Toronto      Harbourfront\n",
              "5        M5A  Downtown Toronto       Regent Park\n",
              "6        M6A        North York  Lawrence Heights"
            ]
          },
          "metadata": {
            "tags": []
          },
          "execution_count": 21
        }
      ]
    },
    {
      "cell_type": "markdown",
      "metadata": {
        "id": "jiOMnh7UZMT0",
        "colab_type": "text"
      },
      "source": [
        "If a cell has a borough but a Not assigned neighborhood, then the neighborhood will be the same as the borough. "
      ]
    },
    {
      "cell_type": "code",
      "metadata": {
        "id": "AUpGjF2Jv6aZ",
        "colab_type": "code",
        "outputId": "6ee6d8f9-976e-4c76-c8dd-c748a2872657",
        "colab": {
          "base_uri": "https://localhost:8080/",
          "height": 195
        }
      },
      "source": [
        "for index, row in df.iterrows():\n",
        "    if row['Neighbourhood'] == 'Not assigned':\n",
        "        row['Neighbourhood'] = row['Borough']\n",
        "df.head()"
      ],
      "execution_count": 22,
      "outputs": [
        {
          "output_type": "execute_result",
          "data": {
            "text/html": [
              "<div>\n",
              "<style scoped>\n",
              "    .dataframe tbody tr th:only-of-type {\n",
              "        vertical-align: middle;\n",
              "    }\n",
              "\n",
              "    .dataframe tbody tr th {\n",
              "        vertical-align: top;\n",
              "    }\n",
              "\n",
              "    .dataframe thead th {\n",
              "        text-align: right;\n",
              "    }\n",
              "</style>\n",
              "<table border=\"1\" class=\"dataframe\">\n",
              "  <thead>\n",
              "    <tr style=\"text-align: right;\">\n",
              "      <th></th>\n",
              "      <th>Postalcode</th>\n",
              "      <th>Borough</th>\n",
              "      <th>Neighbourhood</th>\n",
              "    </tr>\n",
              "  </thead>\n",
              "  <tbody>\n",
              "    <tr>\n",
              "      <th>2</th>\n",
              "      <td>M3A</td>\n",
              "      <td>North York</td>\n",
              "      <td>Parkwoods</td>\n",
              "    </tr>\n",
              "    <tr>\n",
              "      <th>3</th>\n",
              "      <td>M4A</td>\n",
              "      <td>North York</td>\n",
              "      <td>Victoria Village</td>\n",
              "    </tr>\n",
              "    <tr>\n",
              "      <th>4</th>\n",
              "      <td>M5A</td>\n",
              "      <td>Downtown Toronto</td>\n",
              "      <td>Harbourfront</td>\n",
              "    </tr>\n",
              "    <tr>\n",
              "      <th>5</th>\n",
              "      <td>M5A</td>\n",
              "      <td>Downtown Toronto</td>\n",
              "      <td>Regent Park</td>\n",
              "    </tr>\n",
              "    <tr>\n",
              "      <th>6</th>\n",
              "      <td>M6A</td>\n",
              "      <td>North York</td>\n",
              "      <td>Lawrence Heights</td>\n",
              "    </tr>\n",
              "  </tbody>\n",
              "</table>\n",
              "</div>"
            ],
            "text/plain": [
              "  Postalcode           Borough     Neighbourhood\n",
              "2        M3A        North York         Parkwoods\n",
              "3        M4A        North York  Victoria Village\n",
              "4        M5A  Downtown Toronto      Harbourfront\n",
              "5        M5A  Downtown Toronto       Regent Park\n",
              "6        M6A        North York  Lawrence Heights"
            ]
          },
          "metadata": {
            "tags": []
          },
          "execution_count": 22
        }
      ]
    },
    {
      "cell_type": "markdown",
      "metadata": {
        "id": "_wUeZRZwiZC1",
        "colab_type": "text"
      },
      "source": [
        "More than one neighborhood can exist in one postal code area. These multiple rows will be combined into one row with the neighborhoods separated with a comma.\n",
        "\n"
      ]
    },
    {
      "cell_type": "code",
      "metadata": {
        "id": "xB1JW96mialM",
        "colab_type": "code",
        "outputId": "23ee310f-074d-4036-8e29-f560de9b4de6",
        "colab": {
          "base_uri": "https://localhost:8080/",
          "height": 195
        }
      },
      "source": [
        "df = df.groupby(['Borough', 'Postalcode'])['Neighbourhood'].apply(list).apply(lambda x:', '.join(x)).to_frame().reset_index()\n",
        "df.head()\n"
      ],
      "execution_count": 23,
      "outputs": [
        {
          "output_type": "execute_result",
          "data": {
            "text/html": [
              "<div>\n",
              "<style scoped>\n",
              "    .dataframe tbody tr th:only-of-type {\n",
              "        vertical-align: middle;\n",
              "    }\n",
              "\n",
              "    .dataframe tbody tr th {\n",
              "        vertical-align: top;\n",
              "    }\n",
              "\n",
              "    .dataframe thead th {\n",
              "        text-align: right;\n",
              "    }\n",
              "</style>\n",
              "<table border=\"1\" class=\"dataframe\">\n",
              "  <thead>\n",
              "    <tr style=\"text-align: right;\">\n",
              "      <th></th>\n",
              "      <th>Borough</th>\n",
              "      <th>Postalcode</th>\n",
              "      <th>Neighbourhood</th>\n",
              "    </tr>\n",
              "  </thead>\n",
              "  <tbody>\n",
              "    <tr>\n",
              "      <th>0</th>\n",
              "      <td>Central Toronto</td>\n",
              "      <td>M4N</td>\n",
              "      <td>Lawrence Park</td>\n",
              "    </tr>\n",
              "    <tr>\n",
              "      <th>1</th>\n",
              "      <td>Central Toronto</td>\n",
              "      <td>M4P</td>\n",
              "      <td>Davisville North</td>\n",
              "    </tr>\n",
              "    <tr>\n",
              "      <th>2</th>\n",
              "      <td>Central Toronto</td>\n",
              "      <td>M4R</td>\n",
              "      <td>North Toronto West</td>\n",
              "    </tr>\n",
              "    <tr>\n",
              "      <th>3</th>\n",
              "      <td>Central Toronto</td>\n",
              "      <td>M4S</td>\n",
              "      <td>Davisville</td>\n",
              "    </tr>\n",
              "    <tr>\n",
              "      <th>4</th>\n",
              "      <td>Central Toronto</td>\n",
              "      <td>M4T</td>\n",
              "      <td>Moore Park, Summerhill East</td>\n",
              "    </tr>\n",
              "  </tbody>\n",
              "</table>\n",
              "</div>"
            ],
            "text/plain": [
              "           Borough Postalcode                Neighbourhood\n",
              "0  Central Toronto        M4N                Lawrence Park\n",
              "1  Central Toronto        M4P             Davisville North\n",
              "2  Central Toronto        M4R           North Toronto West\n",
              "3  Central Toronto        M4S                   Davisville\n",
              "4  Central Toronto        M4T  Moore Park, Summerhill East"
            ]
          },
          "metadata": {
            "tags": []
          },
          "execution_count": 23
        }
      ]
    },
    {
      "cell_type": "markdown",
      "metadata": {
        "id": "0Jg8BYZ8YcnN",
        "colab_type": "text"
      },
      "source": [
        "Totale records\n"
      ]
    },
    {
      "cell_type": "code",
      "metadata": {
        "id": "RHu0oa6Khm1K",
        "colab_type": "code",
        "outputId": "f15ac48b-2a3a-4c5f-cd45-14f59ed31367",
        "colab": {
          "base_uri": "https://localhost:8080/",
          "height": 34
        }
      },
      "source": [
        "df.shape"
      ],
      "execution_count": 24,
      "outputs": [
        {
          "output_type": "execute_result",
          "data": {
            "text/plain": [
              "(103, 3)"
            ]
          },
          "metadata": {
            "tags": []
          },
          "execution_count": 24
        }
      ]
    },
    {
      "cell_type": "markdown",
      "metadata": {
        "id": "ERWqVS--i1m1",
        "colab_type": "text"
      },
      "source": [
        "###PART 2:Use the Geocoder package\n",
        "\n"
      ]
    },
    {
      "cell_type": "markdown",
      "metadata": {
        "id": "OyilzRONtfsX",
        "colab_type": "text"
      },
      "source": [
        "Use the Geocoder package to get the latitude and the longitude coordinates for all the neighborhoods in our dataframe. \n",
        "\n"
      ]
    },
    {
      "cell_type": "code",
      "metadata": {
        "id": "I872L9rlt4PC",
        "colab_type": "code",
        "outputId": "800c4e3d-6dcb-4805-a430-68a88ff5cd8b",
        "colab": {
          "base_uri": "https://localhost:8080/",
          "height": 230
        }
      },
      "source": [
        "!pip install  geocoder \n",
        "\n",
        "import geocoder\n",
        "import pandas as pd\n",
        "import numpy as np"
      ],
      "execution_count": 25,
      "outputs": [
        {
          "output_type": "stream",
          "text": [
            "Requirement already satisfied: geocoder in /usr/local/lib/python3.6/dist-packages (1.38.1)\n",
            "Requirement already satisfied: click in /usr/local/lib/python3.6/dist-packages (from geocoder) (7.1.2)\n",
            "Requirement already satisfied: six in /usr/local/lib/python3.6/dist-packages (from geocoder) (1.12.0)\n",
            "Requirement already satisfied: ratelim in /usr/local/lib/python3.6/dist-packages (from geocoder) (0.1.6)\n",
            "Requirement already satisfied: requests in /usr/local/lib/python3.6/dist-packages (from geocoder) (2.23.0)\n",
            "Requirement already satisfied: future in /usr/local/lib/python3.6/dist-packages (from geocoder) (0.16.0)\n",
            "Requirement already satisfied: decorator in /usr/local/lib/python3.6/dist-packages (from ratelim->geocoder) (4.4.2)\n",
            "Requirement already satisfied: chardet<4,>=3.0.2 in /usr/local/lib/python3.6/dist-packages (from requests->geocoder) (3.0.4)\n",
            "Requirement already satisfied: urllib3!=1.25.0,!=1.25.1,<1.26,>=1.21.1 in /usr/local/lib/python3.6/dist-packages (from requests->geocoder) (1.24.3)\n",
            "Requirement already satisfied: certifi>=2017.4.17 in /usr/local/lib/python3.6/dist-packages (from requests->geocoder) (2020.4.5.1)\n",
            "Requirement already satisfied: idna<3,>=2.5 in /usr/local/lib/python3.6/dist-packages (from requests->geocoder) (2.9)\n"
          ],
          "name": "stdout"
        }
      ]
    },
    {
      "cell_type": "markdown",
      "metadata": {
        "id": "geBwoNAeyBPG",
        "colab_type": "text"
      },
      "source": [
        "Read the file csv and rename the column 'Postal Code'  for the join subsequently."
      ]
    },
    {
      "cell_type": "code",
      "metadata": {
        "id": "yzdI4MxZtyG3",
        "colab_type": "code",
        "outputId": "9d979d96-f046-44d9-9784-f664b425f2dc",
        "colab": {
          "base_uri": "https://localhost:8080/",
          "height": 402
        }
      },
      "source": [
        "csvfile='http://cocl.us/Geospatial_data'\n",
        "dfGeo = pd.read_csv(csvfile)\n",
        "dfGeo.rename(columns={'Postal Code':'Postalcode'},inplace=True)\n",
        "dfGeo"
      ],
      "execution_count": 26,
      "outputs": [
        {
          "output_type": "execute_result",
          "data": {
            "text/html": [
              "<div>\n",
              "<style scoped>\n",
              "    .dataframe tbody tr th:only-of-type {\n",
              "        vertical-align: middle;\n",
              "    }\n",
              "\n",
              "    .dataframe tbody tr th {\n",
              "        vertical-align: top;\n",
              "    }\n",
              "\n",
              "    .dataframe thead th {\n",
              "        text-align: right;\n",
              "    }\n",
              "</style>\n",
              "<table border=\"1\" class=\"dataframe\">\n",
              "  <thead>\n",
              "    <tr style=\"text-align: right;\">\n",
              "      <th></th>\n",
              "      <th>Postalcode</th>\n",
              "      <th>Latitude</th>\n",
              "      <th>Longitude</th>\n",
              "    </tr>\n",
              "  </thead>\n",
              "  <tbody>\n",
              "    <tr>\n",
              "      <th>0</th>\n",
              "      <td>M1B</td>\n",
              "      <td>43.806686</td>\n",
              "      <td>-79.194353</td>\n",
              "    </tr>\n",
              "    <tr>\n",
              "      <th>1</th>\n",
              "      <td>M1C</td>\n",
              "      <td>43.784535</td>\n",
              "      <td>-79.160497</td>\n",
              "    </tr>\n",
              "    <tr>\n",
              "      <th>2</th>\n",
              "      <td>M1E</td>\n",
              "      <td>43.763573</td>\n",
              "      <td>-79.188711</td>\n",
              "    </tr>\n",
              "    <tr>\n",
              "      <th>3</th>\n",
              "      <td>M1G</td>\n",
              "      <td>43.770992</td>\n",
              "      <td>-79.216917</td>\n",
              "    </tr>\n",
              "    <tr>\n",
              "      <th>4</th>\n",
              "      <td>M1H</td>\n",
              "      <td>43.773136</td>\n",
              "      <td>-79.239476</td>\n",
              "    </tr>\n",
              "    <tr>\n",
              "      <th>...</th>\n",
              "      <td>...</td>\n",
              "      <td>...</td>\n",
              "      <td>...</td>\n",
              "    </tr>\n",
              "    <tr>\n",
              "      <th>98</th>\n",
              "      <td>M9N</td>\n",
              "      <td>43.706876</td>\n",
              "      <td>-79.518188</td>\n",
              "    </tr>\n",
              "    <tr>\n",
              "      <th>99</th>\n",
              "      <td>M9P</td>\n",
              "      <td>43.696319</td>\n",
              "      <td>-79.532242</td>\n",
              "    </tr>\n",
              "    <tr>\n",
              "      <th>100</th>\n",
              "      <td>M9R</td>\n",
              "      <td>43.688905</td>\n",
              "      <td>-79.554724</td>\n",
              "    </tr>\n",
              "    <tr>\n",
              "      <th>101</th>\n",
              "      <td>M9V</td>\n",
              "      <td>43.739416</td>\n",
              "      <td>-79.588437</td>\n",
              "    </tr>\n",
              "    <tr>\n",
              "      <th>102</th>\n",
              "      <td>M9W</td>\n",
              "      <td>43.706748</td>\n",
              "      <td>-79.594054</td>\n",
              "    </tr>\n",
              "  </tbody>\n",
              "</table>\n",
              "<p>103 rows × 3 columns</p>\n",
              "</div>"
            ],
            "text/plain": [
              "    Postalcode   Latitude  Longitude\n",
              "0          M1B  43.806686 -79.194353\n",
              "1          M1C  43.784535 -79.160497\n",
              "2          M1E  43.763573 -79.188711\n",
              "3          M1G  43.770992 -79.216917\n",
              "4          M1H  43.773136 -79.239476\n",
              "..         ...        ...        ...\n",
              "98         M9N  43.706876 -79.518188\n",
              "99         M9P  43.696319 -79.532242\n",
              "100        M9R  43.688905 -79.554724\n",
              "101        M9V  43.739416 -79.588437\n",
              "102        M9W  43.706748 -79.594054\n",
              "\n",
              "[103 rows x 3 columns]"
            ]
          },
          "metadata": {
            "tags": []
          },
          "execution_count": 26
        }
      ]
    },
    {
      "cell_type": "markdown",
      "metadata": {
        "id": "PohhNTGq3Nvw",
        "colab_type": "text"
      },
      "source": [
        "Simple Join Dataframe between Borough and Geo information"
      ]
    },
    {
      "cell_type": "code",
      "metadata": {
        "id": "C-x6tJCFEo7k",
        "colab_type": "code",
        "outputId": "23b492e5-eecc-4b29-d329-8f28efb6d094",
        "colab": {
          "base_uri": "https://localhost:8080/",
          "height": 431
        }
      },
      "source": [
        "sKey='Postalcode'\n",
        "#BEGIN   \n",
        "if sKey in df.columns: \n",
        "  df.set_index(sKey,inplace=True)\n",
        "   \n",
        "if sKey in dfGeo.columns: \n",
        "   dfGeo.set_index(sKey,inplace=True)\n",
        "#END \n",
        "\n",
        "dfToronto= df.join(dfGeo,on='Postalcode',rsuffix='right_')\n",
        "\n",
        "df.reset_index(inplace=True)\n",
        "dfGeo.reset_index(inplace=True)\n",
        "# not reset index  because we must use at the end of the notebook\n",
        "#dfToronto.reset_index(inplace=True) \n",
        "\n",
        "dfToronto"
      ],
      "execution_count": 27,
      "outputs": [
        {
          "output_type": "execute_result",
          "data": {
            "text/html": [
              "<div>\n",
              "<style scoped>\n",
              "    .dataframe tbody tr th:only-of-type {\n",
              "        vertical-align: middle;\n",
              "    }\n",
              "\n",
              "    .dataframe tbody tr th {\n",
              "        vertical-align: top;\n",
              "    }\n",
              "\n",
              "    .dataframe thead th {\n",
              "        text-align: right;\n",
              "    }\n",
              "</style>\n",
              "<table border=\"1\" class=\"dataframe\">\n",
              "  <thead>\n",
              "    <tr style=\"text-align: right;\">\n",
              "      <th></th>\n",
              "      <th>Borough</th>\n",
              "      <th>Neighbourhood</th>\n",
              "      <th>Latitude</th>\n",
              "      <th>Longitude</th>\n",
              "    </tr>\n",
              "    <tr>\n",
              "      <th>Postalcode</th>\n",
              "      <th></th>\n",
              "      <th></th>\n",
              "      <th></th>\n",
              "      <th></th>\n",
              "    </tr>\n",
              "  </thead>\n",
              "  <tbody>\n",
              "    <tr>\n",
              "      <th>M4N</th>\n",
              "      <td>Central Toronto</td>\n",
              "      <td>Lawrence Park</td>\n",
              "      <td>43.728020</td>\n",
              "      <td>-79.388790</td>\n",
              "    </tr>\n",
              "    <tr>\n",
              "      <th>M4P</th>\n",
              "      <td>Central Toronto</td>\n",
              "      <td>Davisville North</td>\n",
              "      <td>43.712751</td>\n",
              "      <td>-79.390197</td>\n",
              "    </tr>\n",
              "    <tr>\n",
              "      <th>M4R</th>\n",
              "      <td>Central Toronto</td>\n",
              "      <td>North Toronto West</td>\n",
              "      <td>43.715383</td>\n",
              "      <td>-79.405678</td>\n",
              "    </tr>\n",
              "    <tr>\n",
              "      <th>M4S</th>\n",
              "      <td>Central Toronto</td>\n",
              "      <td>Davisville</td>\n",
              "      <td>43.704324</td>\n",
              "      <td>-79.388790</td>\n",
              "    </tr>\n",
              "    <tr>\n",
              "      <th>M4T</th>\n",
              "      <td>Central Toronto</td>\n",
              "      <td>Moore Park, Summerhill East</td>\n",
              "      <td>43.689574</td>\n",
              "      <td>-79.383160</td>\n",
              "    </tr>\n",
              "    <tr>\n",
              "      <th>...</th>\n",
              "      <td>...</td>\n",
              "      <td>...</td>\n",
              "      <td>...</td>\n",
              "      <td>...</td>\n",
              "    </tr>\n",
              "    <tr>\n",
              "      <th>M6C</th>\n",
              "      <td>York</td>\n",
              "      <td>Humewood-Cedarvale</td>\n",
              "      <td>43.693781</td>\n",
              "      <td>-79.428191</td>\n",
              "    </tr>\n",
              "    <tr>\n",
              "      <th>M6E</th>\n",
              "      <td>York</td>\n",
              "      <td>Caledonia-Fairbanks</td>\n",
              "      <td>43.689026</td>\n",
              "      <td>-79.453512</td>\n",
              "    </tr>\n",
              "    <tr>\n",
              "      <th>M6M</th>\n",
              "      <td>York</td>\n",
              "      <td>Del Ray, Keelesdale, Mount Dennis, Silverthorn</td>\n",
              "      <td>43.691116</td>\n",
              "      <td>-79.476013</td>\n",
              "    </tr>\n",
              "    <tr>\n",
              "      <th>M6N</th>\n",
              "      <td>York</td>\n",
              "      <td>The Junction North, Runnymede</td>\n",
              "      <td>43.673185</td>\n",
              "      <td>-79.487262</td>\n",
              "    </tr>\n",
              "    <tr>\n",
              "      <th>M9N</th>\n",
              "      <td>York</td>\n",
              "      <td>Weston</td>\n",
              "      <td>43.706876</td>\n",
              "      <td>-79.518188</td>\n",
              "    </tr>\n",
              "  </tbody>\n",
              "</table>\n",
              "<p>103 rows × 4 columns</p>\n",
              "</div>"
            ],
            "text/plain": [
              "                    Borough  ...  Longitude\n",
              "Postalcode                   ...           \n",
              "M4N         Central Toronto  ... -79.388790\n",
              "M4P         Central Toronto  ... -79.390197\n",
              "M4R         Central Toronto  ... -79.405678\n",
              "M4S         Central Toronto  ... -79.388790\n",
              "M4T         Central Toronto  ... -79.383160\n",
              "...                     ...  ...        ...\n",
              "M6C                    York  ... -79.428191\n",
              "M6E                    York  ... -79.453512\n",
              "M6M                    York  ... -79.476013\n",
              "M6N                    York  ... -79.487262\n",
              "M9N                    York  ... -79.518188\n",
              "\n",
              "[103 rows x 4 columns]"
            ]
          },
          "metadata": {
            "tags": []
          },
          "execution_count": 27
        }
      ]
    },
    {
      "cell_type": "markdown",
      "metadata": {
        "id": "gJ0fMhrk33pz",
        "colab_type": "text"
      },
      "source": [
        ""
      ]
    },
    {
      "cell_type": "markdown",
      "metadata": {
        "id": "S0K10K7vvHYZ",
        "colab_type": "text"
      },
      "source": [
        "### Part 3: Folium Map"
      ]
    },
    {
      "cell_type": "markdown",
      "metadata": {
        "id": "xkPqF1X0F_9A",
        "colab_type": "text"
      },
      "source": [
        "Explore and cluster the neighborhoods in Toronto.\n"
      ]
    },
    {
      "cell_type": "code",
      "metadata": {
        "id": "0dHQVMnNGCDQ",
        "colab_type": "code",
        "outputId": "e3189222-c428-47c3-d94d-65760c3a453c",
        "colab": {
          "base_uri": "https://localhost:8080/",
          "height": 34
        }
      },
      "source": [
        "#!pip install folium\n",
        "#!pip install  geopy \n",
        "from geopy.geocoders import Nominatim \n",
        "\n",
        "#with this library I take the latitude and longitude coordinates\n",
        "address = 'Toronto,ON'\n",
        "\n",
        "geolocator = Nominatim(user_agent=\"FM_Capstone_Project_Notebook\")\n",
        "location = geolocator.geocode(address)\n",
        "print('The geograpical coordinate of ',address,' are {}, {}.'.format(location.latitude, location.longitude))"
      ],
      "execution_count": 28,
      "outputs": [
        {
          "output_type": "stream",
          "text": [
            "The geograpical coordinate of  Toronto,ON  are 43.6534817, -79.3839347.\n"
          ],
          "name": "stdout"
        }
      ]
    },
    {
      "cell_type": "code",
      "metadata": {
        "id": "QVBHvhnjH4Y3",
        "colab_type": "code",
        "outputId": "9c1f5041-7307-4385-9ddf-6431810bdc9a",
        "colab": {
          "base_uri": "https://localhost:8080/",
          "height": 685
        }
      },
      "source": [
        "#!conda install -c conda-forge folium=0.5.0 --yes \n",
        "import folium # map rendering library\n",
        "\n",
        "# create map of Toronto using latitude and longitude values\n",
        "map_toronto = folium.Map(location=[location.latitude, location.longitude], zoom_start=11)\n",
        "\n",
        "# add markers to map\n",
        "for lat, lng, borough, neighbourhood in zip(dfToronto['Latitude'], dfToronto['Longitude'], dfToronto['Borough'], dfToronto['Neighbourhood']):\n",
        "    label = '{}, {}'.format(neighbourhood, borough)\n",
        "    label = folium.Popup(label, parse_html=True)\n",
        "    folium.CircleMarker(\n",
        "        [lat, lng],\n",
        "        radius=5,\n",
        "        popup=label,\n",
        "        color='green',\n",
        "        fill=True,\n",
        "        fill_color='#3186cc',\n",
        "        fill_opacity=0.7,\n",
        "        parse_html=False).add_to(map_toronto)  \n",
        "map_toronto"
      ],
      "execution_count": 29,
      "outputs": [
        {
          "output_type": "execute_result",
          "data": {
            "text/html": [
              "<div style=\"width:100%;\"><div style=\"position:relative;width:100%;height:0;padding-bottom:60%;\"><iframe src=\"about:blank\" style=\"position:absolute;width:100%;height:100%;left:0;top:0;border:none !important;\" data-html=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 onload=\"this.contentDocument.open();this.contentDocument.write(atob(this.getAttribute('data-html')));this.contentDocument.close();\" allowfullscreen webkitallowfullscreen mozallowfullscreen></iframe></div></div>"
            ],
            "text/plain": [
              "<folium.folium.Map at 0x7fd3515456d8>"
            ]
          },
          "metadata": {
            "tags": []
          },
          "execution_count": 29
        }
      ]
    },
    {
      "cell_type": "markdown",
      "metadata": {
        "id": "T8gpdmy7g56U",
        "colab_type": "text"
      },
      "source": [
        "Now we can explore the useful information of foursquare.\n"
      ]
    },
    {
      "cell_type": "code",
      "metadata": {
        "id": "KTnbpefYhLuX",
        "colab_type": "code",
        "colab": {}
      },
      "source": [
        "#add the credential information \n",
        "CLIENT_ID = 'F4FVI5L4NGVZVPRIVY0EGEZ14YL1X11PGI43FUYMVNVJJDNM'\n",
        "CLIENT_SECRET = 'NEFKIQAODHFFCFHTAE3F05UE1BOJ4KJLOOPDVJE1KQHOGNJ0'\n"
      ],
      "execution_count": 0,
      "outputs": []
    },
    {
      "cell_type": "code",
      "metadata": {
        "id": "K5n6Y067dcad",
        "colab_type": "code",
        "colab": {}
      },
      "source": [
        "# create URL\n",
        "VERSION = '20180605'\n",
        "LIMIT = 100\n",
        "radius = 500\n",
        "url = 'https://api.foursquare.com/v2/venues/explore?&client_id={}&client_secret={}&v={}&ll={},{}&radius={}&limit={}'.format(\n",
        "    CLIENT_ID, \n",
        "    CLIENT_SECRET, \n",
        "    VERSION, \n",
        "    location.latitude, \n",
        "    location.longitude, \n",
        "    radius, \n",
        "    LIMIT)"
      ],
      "execution_count": 0,
      "outputs": []
    },
    {
      "cell_type": "code",
      "metadata": {
        "id": "tGW9AjC6dlJf",
        "colab_type": "code",
        "colab": {}
      },
      "source": [
        "httpResult = requests.get(url).json()\n",
        "#httpResult"
      ],
      "execution_count": 0,
      "outputs": []
    },
    {
      "cell_type": "markdown",
      "metadata": {
        "id": "5rS5CtshaoOE",
        "colab_type": "text"
      },
      "source": [
        "Now we must use a function from lab for extract the category"
      ]
    },
    {
      "cell_type": "code",
      "metadata": {
        "id": "sq58jm2YaueF",
        "colab_type": "code",
        "colab": {}
      },
      "source": [
        "# function that extracts the category of the venue\n",
        "def get_category_type(row):\n",
        "    try:\n",
        "        categories_list = row['categories']\n",
        "    except:\n",
        "        categories_list = row['venue.categories']\n",
        "        \n",
        "    if len(categories_list) == 0:\n",
        "        return None\n",
        "    else:\n",
        "        return categories_list[0]['name']\n",
        "        "
      ],
      "execution_count": 0,
      "outputs": []
    },
    {
      "cell_type": "markdown",
      "metadata": {
        "id": "XNxe3YybIkxk",
        "colab_type": "text"
      },
      "source": [
        "And now a function for explore Near by Venues with a radius of 500"
      ]
    },
    {
      "cell_type": "code",
      "metadata": {
        "id": "0_UEc1-7IHa1",
        "colab_type": "code",
        "colab": {}
      },
      "source": [
        "def getNearbyVenues(names, latitudes, longitudes, radius=500, verbose=False):\n",
        "    \n",
        "    venues_list=[]\n",
        "    for name, lat, lng in zip(names, latitudes, longitudes):\n",
        "        if verbose:\n",
        "            print(name)\n",
        "            \n",
        "        # create the API request URL\n",
        "        url = 'https://api.foursquare.com/v2/venues/explore?&client_id={}&client_secret={}&v={}&ll={},{}&radius={}&limit={}'.format(\n",
        "            CLIENT_ID, \n",
        "            CLIENT_SECRET, \n",
        "            VERSION, \n",
        "            lat, \n",
        "            lng, \n",
        "            radius, \n",
        "            LIMIT)\n",
        "            \n",
        "        # make the GET request\n",
        "        results = requests.get(url).json()[\"response\"]['groups'][0]['items']\n",
        "        \n",
        "        # return only relevant information for each nearby venue\n",
        "        venues_list.append([(\n",
        "            name, \n",
        "            lat, \n",
        "            lng, \n",
        "            v['venue']['name'], \n",
        "            v['venue']['location']['lat'], \n",
        "            v['venue']['location']['lng'],  \n",
        "            v['venue']['categories'][0]['name']) for v in results])\n",
        "\n",
        "    nearby_venues = pd.DataFrame([item for venue_list in venues_list for item in venue_list])\n",
        "    nearby_venues.columns = ['Neighborhood', \n",
        "                  'Neighborhood Latitude', \n",
        "                  'Neighborhood Longitude', \n",
        "                  'Venue', \n",
        "                  'Venue Latitude', \n",
        "                  'Venue Longitude', \n",
        "                  'Venue Category']\n",
        "    \n",
        "    return(nearby_venues)"
      ],
      "execution_count": 0,
      "outputs": []
    },
    {
      "cell_type": "code",
      "metadata": {
        "id": "9Rr-yR_VcKPe",
        "colab_type": "code",
        "outputId": "935af060-0655-461c-d982-9a7a3be30c3d",
        "colab": {
          "base_uri": "https://localhost:8080/",
          "height": 238
        }
      },
      "source": [
        "venues = httpResult['response']['groups'][0]['items']\n",
        "    \n",
        "nvenues = pd.json_normalize(venues) # flatten JSON\n",
        "\n",
        "# filter columns\n",
        "filtered_columns = ['venue.name', 'venue.categories', 'venue.location.lat', 'venue.location.lng']\n",
        "nvenues =nvenues.loc[:, filtered_columns]\n",
        "\n",
        "# extract the category for each row\n",
        "nvenues['venue.categories'] = nvenues.apply(get_category_type, axis=1)\n",
        "\n",
        "# delete from column name \"venue.\"\n",
        "nvenues.columns = [col.split(\".\")[-1] for col in nvenues.columns]\n",
        "\n",
        "nvenues.head()"
      ],
      "execution_count": 35,
      "outputs": [
        {
          "output_type": "error",
          "ename": "KeyError",
          "evalue": "ignored",
          "traceback": [
            "\u001b[0;31m---------------------------------------------------------------------------\u001b[0m",
            "\u001b[0;31mKeyError\u001b[0m                                  Traceback (most recent call last)",
            "\u001b[0;32m<ipython-input-35-327209952026>\u001b[0m in \u001b[0;36m<module>\u001b[0;34m()\u001b[0m\n\u001b[0;32m----> 1\u001b[0;31m \u001b[0mvenues\u001b[0m \u001b[0;34m=\u001b[0m \u001b[0mhttpResult\u001b[0m\u001b[0;34m[\u001b[0m\u001b[0;34m'response'\u001b[0m\u001b[0;34m]\u001b[0m\u001b[0;34m[\u001b[0m\u001b[0;34m'groups'\u001b[0m\u001b[0;34m]\u001b[0m\u001b[0;34m[\u001b[0m\u001b[0;36m0\u001b[0m\u001b[0;34m]\u001b[0m\u001b[0;34m[\u001b[0m\u001b[0;34m'items'\u001b[0m\u001b[0;34m]\u001b[0m\u001b[0;34m\u001b[0m\u001b[0;34m\u001b[0m\u001b[0m\n\u001b[0m\u001b[1;32m      2\u001b[0m \u001b[0;34m\u001b[0m\u001b[0m\n\u001b[1;32m      3\u001b[0m \u001b[0mnvenues\u001b[0m \u001b[0;34m=\u001b[0m \u001b[0mpd\u001b[0m\u001b[0;34m.\u001b[0m\u001b[0mjson_normalize\u001b[0m\u001b[0;34m(\u001b[0m\u001b[0mvenues\u001b[0m\u001b[0;34m)\u001b[0m \u001b[0;31m# flatten JSON\u001b[0m\u001b[0;34m\u001b[0m\u001b[0;34m\u001b[0m\u001b[0m\n\u001b[1;32m      4\u001b[0m \u001b[0;34m\u001b[0m\u001b[0m\n\u001b[1;32m      5\u001b[0m \u001b[0;31m# filter columns\u001b[0m\u001b[0;34m\u001b[0m\u001b[0;34m\u001b[0m\u001b[0;34m\u001b[0m\u001b[0m\n",
            "\u001b[0;31mKeyError\u001b[0m: 'groups'"
          ]
        }
      ]
    },
    {
      "cell_type": "markdown",
      "metadata": {
        "id": "o2gKKrY9JOVM",
        "colab_type": "text"
      },
      "source": [
        "We get the venue  (with Verbose=True  print all the content)\n",
        "\n",
        "\n"
      ]
    },
    {
      "cell_type": "code",
      "metadata": {
        "id": "oan_ojhHJVL5",
        "colab_type": "code",
        "colab": {}
      },
      "source": [
        "dfTorontoVenues = getNearbyVenues(names=dfToronto['Neighbourhood'],\n",
        "                                 latitudes=dfToronto['Latitude'],\n",
        "                                 longitudes=dfToronto['Longitude'],\n",
        "                                 verbose=False\n",
        "                                  )\n",
        "dfTorontoVenues"
      ],
      "execution_count": 0,
      "outputs": []
    },
    {
      "cell_type": "markdown",
      "metadata": {
        "id": "uCI4p8odlrMy",
        "colab_type": "text"
      },
      "source": [
        "Check all the category  and organized in pivot style.\n",
        "\n",
        "\n",
        "\n",
        "\n"
      ]
    },
    {
      "cell_type": "code",
      "metadata": {
        "id": "CFK3QvZjlLyd",
        "colab_type": "code",
        "colab": {}
      },
      "source": [
        "dfTorontoCategory = pd.get_dummies(dfTorontoVenues[['Venue Category']], prefix=\"\", prefix_sep=\"\")\n",
        "\n",
        "dfTorontoCategory['Neighborhood'] = dfTorontoVenues['Neighborhood'] \n",
        "\n",
        "fixed_columns = [dfTorontoCategory.columns[-1]] + list(dfTorontoCategory.columns[:-1])\n",
        "dfTorontoCategory = dfTorontoCategory[fixed_columns]\n",
        "\n",
        "dfTorontoCategory.head()"
      ],
      "execution_count": 0,
      "outputs": []
    },
    {
      "cell_type": "code",
      "metadata": {
        "id": "mQIYG-BAnBsx",
        "colab_type": "code",
        "colab": {}
      },
      "source": [
        "print('There are {} categories'.format(len(dfTorontoCategory.columns)))"
      ],
      "execution_count": 0,
      "outputs": []
    },
    {
      "cell_type": "markdown",
      "metadata": {
        "id": "9tSA2uwnsnTu",
        "colab_type": "text"
      },
      "source": [
        "Now for exploratory analysys  filter the Venues Dataframe for extract only Restaurant."
      ]
    },
    {
      "cell_type": "code",
      "metadata": {
        "colab_type": "code",
        "id": "v3DaWOa9tWK8",
        "colab": {}
      },
      "source": [
        "from google.colab import files\n",
        "#dfTorontoVenues.to_excel(\"TorontoRestaurant.xls\")\n",
        "#files.download(\"TorontoRestaurant.xls\")\n",
        "\n",
        "dfTorontoRestaurant = dfTorontoVenues[dfTorontoVenues['Venue Category'].str.contains('Restaurant')]\n",
        "dfTorontoRestaurant.head(10)\n",
        "\n",
        "#dfTorontoRestaurant.to_excel('TorontoRestaurant.xls')\n",
        "#files.download('TorontoRestaurant.xls') \n"
      ],
      "execution_count": 0,
      "outputs": []
    },
    {
      "cell_type": "markdown",
      "metadata": {
        "id": "8HUycMy59xUm",
        "colab_type": "text"
      },
      "source": [
        "Now we Map all the Restaurant with folium"
      ]
    },
    {
      "cell_type": "code",
      "metadata": {
        "id": "stq1ngJr94xS",
        "colab_type": "code",
        "colab": {}
      },
      "source": [
        "import folium # map rendering library\n",
        "\n",
        "# create map of Toronto using latitude and longitude values\n",
        "restaurant = folium.Map(location=[location.latitude, location.longitude], zoom_start=11)\n",
        "\n",
        "# add markers to map\n",
        "for lat, lng, venue, category in zip(dfTorontoRestaurant['Venue Latitude'], dfTorontoRestaurant['Venue Longitude'], \n",
        "                                     dfTorontoRestaurant['Venue'], dfTorontoRestaurant['Venue Category']):\n",
        "    #print(venue)\n",
        "    label = '{}, {}'.format(venue, category)\n",
        "    label = folium.Popup(label, parse_html=True)\n",
        "    folium.CircleMarker(\n",
        "        [lat, lng],\n",
        "        radius=5,\n",
        "        popup=label,\n",
        "        color='yellow',\n",
        "        fill=True,\n",
        "        fill_color='black',\n",
        "        fill_opacity=0.9,\n",
        "        parse_html=False).add_to(restaurant)  \n",
        "\n",
        "restaurant\n"
      ],
      "execution_count": 0,
      "outputs": []
    },
    {
      "cell_type": "markdown",
      "metadata": {
        "id": "thvZLluD2pev",
        "colab_type": "text"
      },
      "source": [
        "Now for exploratory analysis we extract only Italian restaurant\n"
      ]
    },
    {
      "cell_type": "code",
      "metadata": {
        "id": "Tm7TFvGY21yh",
        "colab_type": "code",
        "colab": {}
      },
      "source": [
        "dfTIRestaurant = dfTorontoVenues[dfTorontoVenues['Venue Category']==\"Italian Restaurant\"]\n",
        "dfTIRestaurant.head(10)"
      ],
      "execution_count": 0,
      "outputs": []
    },
    {
      "cell_type": "markdown",
      "metadata": {
        "id": "BHp9edqMDE2S",
        "colab_type": "text"
      },
      "source": [
        "Now we Map all the Italian Restaurant with folium\n"
      ]
    },
    {
      "cell_type": "code",
      "metadata": {
        "id": "7uV9rJHWDMw7",
        "colab_type": "code",
        "colab": {}
      },
      "source": [
        "import folium # map rendering library\n",
        "\n",
        "# create map of Toronto using latitude and longitude values\n",
        "italianRestaurant = folium.Map(location=[location.latitude, location.longitude], zoom_start=11)\n",
        "\n",
        "# add markers to map\n",
        "for lat, lng, venue, category in zip(dfTIRestaurant['Venue Latitude'], dfTIRestaurant['Venue Longitude'], dfTIRestaurant['Venue'], dfTIRestaurant['Venue Category']):\n",
        "    #print(venue)\n",
        "    label = '{}, {}'.format(venue, category)\n",
        "    label = folium.Popup(label, parse_html=True)\n",
        "    folium.CircleMarker(\n",
        "        [lat, lng],\n",
        "        radius=4,\n",
        "        popup=label,\n",
        "        color='red',\n",
        "        fill=True,\n",
        "        fill_color='black',\n",
        "        fill_opacity=0.7,\n",
        "        parse_html=False).add_to(italianRestaurant)  \n",
        "\n",
        "italianRestaurant\n",
        "\n"
      ],
      "execution_count": 0,
      "outputs": []
    },
    {
      "cell_type": "markdown",
      "metadata": {
        "id": "TDGvdzWxHlba",
        "colab_type": "text"
      },
      "source": [
        "NeighBorough and Italian Restaurant"
      ]
    },
    {
      "cell_type": "code",
      "metadata": {
        "id": "xUYga0muHs3X",
        "colab_type": "code",
        "colab": {}
      },
      "source": [
        "# add markers to map\n",
        "for lat, lng, venue, category in zip(dfTIRestaurant['Venue Latitude'], dfTIRestaurant['Venue Longitude'], dfTIRestaurant['Venue'], dfTIRestaurant['Venue Category']):\n",
        "    #print(venue)\n",
        "    label = '{}, {}'.format(venue, category)\n",
        "    label = folium.Popup(label, parse_html=True)\n",
        "    folium.CircleMarker(\n",
        "        [lat, lng],\n",
        "        radius=4,\n",
        "        popup=label,\n",
        "        color='red',\n",
        "        fill=True,\n",
        "        fill_color='red',\n",
        "        fill_opacity=0.7,\n",
        "        parse_html=False).add_to(map_toronto) \n",
        "map_toronto \n"
      ],
      "execution_count": 0,
      "outputs": []
    },
    {
      "cell_type": "markdown",
      "metadata": {
        "id": "24l4gpng5RK3",
        "colab_type": "text"
      },
      "source": [
        "Now we group rows by neighbourhood and extract mean"
      ]
    },
    {
      "cell_type": "code",
      "metadata": {
        "id": "tEATwYiu5jlX",
        "colab_type": "code",
        "colab": {}
      },
      "source": [
        "dfTCategoryGroup  = dfTorontoCategory.groupby('Neighborhood').mean().reset_index()\n",
        "dfTCategoryGroup.head()"
      ],
      "execution_count": 0,
      "outputs": []
    },
    {
      "cell_type": "markdown",
      "metadata": {
        "id": "f_BFwKmZK-Qu",
        "colab_type": "text"
      },
      "source": [
        "Relationship between neighborhood and Italian Restaurant </h3>\n"
      ]
    },
    {
      "cell_type": "code",
      "metadata": {
        "id": "DVi9bZUVLI35",
        "colab_type": "code",
        "colab": {}
      },
      "source": [
        "\n",
        "#TEST GROUP BY\n",
        "#toronto_part = dfTorontoCategory[['Neighborhood', 'Italian Restaurant']]\n",
        "indexColumn=['Neighborhood']\n",
        "\n",
        "#dfTorontoCategory.reset_index(inplace=True)\n",
        "dfTorontoCategory.set_index(indexColumn,inplace=True)\n",
        "dfTorontoCategory['sum'] = dfTorontoCategory.groupby('Neighborhood')['Italian Restaurant'].sum()\n",
        "dfTorontoCategory.reset_index(inplace=True)\n",
        "toronto_part = dfTorontoCategory[['Neighborhood', 'Italian Restaurant','sum']]\n",
        "toronto_part.drop(columns=['Italian Restaurant'],inplace=True)\n",
        "toronto_part.rename(columns={'sum':'Italian Restaurant'}, inplace=True)\n",
        "toronto_part.drop_duplicates(inplace=True)\n",
        "toronto_part.sort_values(by=['Italian Restaurant'], inplace=True,ascending=False)\n",
        "toronto_part"
      ],
      "execution_count": 0,
      "outputs": []
    },
    {
      "cell_type": "markdown",
      "metadata": {
        "id": "f7_UUxHX6SiG",
        "colab_type": "text"
      },
      "source": [
        "Explore the top 5 category in each venues. Then sort the venues in descending order and store information.\n"
      ]
    },
    {
      "cell_type": "code",
      "metadata": {
        "id": "y5A4mr246Zyx",
        "colab_type": "code",
        "colab": {}
      },
      "source": [
        "#dfTCategoryGroup.to_excel('DebugOutput.xls')\n",
        "#from google.colab import files\n",
        "#files.download('DebugOutput.xls') \n",
        "top_venue_num = 5\n",
        "for hood in dfTCategoryGroup['Neighborhood']:\n",
        "    #print(\"----\"+hood+\"----\")\n",
        "    temp = dfTCategoryGroup[dfTCategoryGroup['Neighborhood'] == hood].T.reset_index()\n",
        "    temp.columns = ['venue','freq']\n",
        "    temp = temp.iloc[1:]\n",
        "    temp['freq'] = temp['freq'].astype(float)\n",
        "    temp = temp.round({'freq': 2})\n",
        "    #print(temp.sort_values('freq', ascending=False).reset_index(drop=True).head(top_venue_num))\n",
        "    #print('\\n')"
      ],
      "execution_count": 0,
      "outputs": []
    },
    {
      "cell_type": "markdown",
      "metadata": {
        "id": "3WckvpIix9VL",
        "colab_type": "text"
      },
      "source": [
        "Now for simple exploration we plot restaurant category. Alert: there is a generic category \"Restaurant\""
      ]
    },
    {
      "cell_type": "code",
      "metadata": {
        "id": "quY5_TEhp9SR",
        "colab_type": "code",
        "colab": {}
      },
      "source": [
        "restaurantCat = dfTorontoCategory[\n",
        "    dfTorontoCategory.columns[dfTorontoCategory.columns.str.contains(\"Restaurant\", case=False)]\n",
        "].sum()\n",
        "\n",
        "#display a plot\n",
        "restaurantCat.sort_values().plot(kind=\"barh\", figsize=(12, 8))\n",
        "plt.title(\"Total Number Of Different Restaurant Type\", loc=\"left\", fontsize=20)\n",
        "plt.show()\n"
      ],
      "execution_count": 0,
      "outputs": []
    },
    {
      "cell_type": "markdown",
      "metadata": {
        "id": "Xvk5vKLjUFiG",
        "colab_type": "text"
      },
      "source": [
        "Now for simple exploration we filter all the Venues data with category 'Italian Restaurant'\n"
      ]
    },
    {
      "cell_type": "markdown",
      "metadata": {
        "id": "L9NNPzuiUZ1L",
        "colab_type": "text"
      },
      "source": [
        "Now we aggregate only Top (x) Venue for Neighborhood\n"
      ]
    },
    {
      "cell_type": "code",
      "metadata": {
        "id": "f4bY5LNcVbJe",
        "colab_type": "code",
        "colab": {}
      },
      "source": [
        "def return_most_common_venues(row, num_top_venues):\n",
        "    row_categories = row.iloc[1:]\n",
        "    row_categories_sorted = row_categories.sort_values(ascending=False)\n",
        "    \n",
        "    return row_categories_sorted.index.values[0:num_top_venues]\n",
        "\n",
        "#----------------------------\n",
        "num_top_venues = 10\n",
        "\n",
        "indicators = ['st', 'nd', 'rd']\n",
        "\n",
        "# create columns according to number of top venues\n",
        "columns = ['Neighborhood']\n",
        "for ind in np.arange(num_top_venues):\n",
        "    try:\n",
        "        columns.append('{}{} Best Venue'.format(ind+1, indicators[ind]))\n",
        "    except:\n",
        "        columns.append('{}th Best Venue'.format(ind+1))\n",
        "\n",
        "# create a dataframe\n",
        "neighborhoods_venues_sorted = pd.DataFrame(columns=columns)\n",
        "neighborhoods_venues_sorted['Neighborhood'] = dfTCategoryGroup['Neighborhood']\n",
        "\n",
        "for ind in np.arange(dfTCategoryGroup.shape[0]):\n",
        "    neighborhoods_venues_sorted.iloc[ind, 1:] = return_most_common_venues(dfTCategoryGroup.iloc[ind, :], num_top_venues)\n",
        "\n",
        "neighborhoods_venues_sorted.head()"
      ],
      "execution_count": 0,
      "outputs": []
    },
    {
      "cell_type": "markdown",
      "metadata": {
        "id": "NfKpMie3gMNy",
        "colab_type": "text"
      },
      "source": [
        "## **Part.4 Predicting model.**\n",
        "**Cluster Neighbourhoods with KMeans**\n",
        "\n",
        "Now we use k_means to cluster the neighbourhood into x clusters."
      ]
    },
    {
      "cell_type": "markdown",
      "metadata": {
        "id": "-4FdH7ZF7JHe",
        "colab_type": "text"
      },
      "source": [
        "## 4.1 KMeans Algorithm"
      ]
    },
    {
      "cell_type": "code",
      "metadata": {
        "id": "JcIb96dIgl_1",
        "colab_type": "code",
        "colab": {}
      },
      "source": [
        "# set number of clusters\n",
        "kclusters = 6\n",
        "\n",
        "toronto_grouped_clustering = dfTCategoryGroup.drop('Neighborhood', 1)\n",
        "print(toronto_grouped_clustering)\n",
        "# run k-means clustering\n",
        "kmeans = KMeans(n_clusters=kclusters, random_state=0).fit(toronto_grouped_clustering)\n",
        "\n",
        "# check cluster labels generated for each row in the dataframe\n",
        "kmeans.labels_[0:10] \n"
      ],
      "execution_count": 0,
      "outputs": []
    },
    {
      "cell_type": "code",
      "metadata": {
        "id": "JCVxacF8kwwS",
        "colab_type": "code",
        "colab": {}
      },
      "source": [
        "neighborhoods_venues_sorted.columns\n"
      ],
      "execution_count": 0,
      "outputs": []
    },
    {
      "cell_type": "code",
      "metadata": {
        "id": "kky4PKI2kxyZ",
        "colab_type": "code",
        "colab": {}
      },
      "source": [
        "#ONLY FOR DEBUG\n",
        "from google.colab import files\n",
        "#dfToronto.to_excel(\"Toronto.xls\")\n",
        "#files.download(\"Toronto.xls\")\n",
        "\n",
        "#toronto_part.to_excel(\"Toronto_part.xls\")\n",
        "#files.download(\"Toronto_part.xls\")\n",
        "\n",
        "indexColumn=['Neighborhood']\n",
        "toronto_part.set_index(indexColumn,inplace=True)\n",
        "toronto_part['IT Sum'] = toronto_part.groupby([\"Neighborhood\"])[\"Italian Restaurant\"].count()\n",
        "if 'Cluster Labels' not in dfTCategoryGroup:\n",
        "    dfTCategoryGroup.insert(0, 'Cluster Labels', kmeans.labels_)\n",
        "\n",
        "toronto_merged = dfToronto\n",
        "#merge toronto_grouped with toronto_data to add latitude/longitude for each neighborhood\n",
        "toronto_merged = toronto_merged.join(toronto_part, on='Neighborhood',rsuffix='n_')\n",
        "#toronto_merged = toronto_merged.join(toronto_part.set_index('Neighborhood'), on='Neighborhood',rsuffix='n_')\n",
        "toronto_merged.dropna(subset=[\"Cluster Labels\"], axis=0, inplace=True)\n",
        "toronto_merged.reset_index(drop=True, inplace=True)\n",
        "toronto_merged['Cluster Labels'].astype(int)\n",
        "toronto_merged.head()\n",
        "# add clustering labels\n"
      ],
      "execution_count": 0,
      "outputs": []
    },
    {
      "cell_type": "markdown",
      "metadata": {
        "id": "odIseWeH7mTP",
        "colab_type": "text"
      },
      "source": [
        "Now we visualize the Clusters with Folium"
      ]
    },
    {
      "cell_type": "code",
      "metadata": {
        "id": "FlgOmd8y76-u",
        "colab_type": "code",
        "colab": {}
      },
      "source": [
        "map_clusters = folium.Map(location=[location.latitude, location.longitude], zoom_start=11, width='90%', height='70%')\n",
        "\n",
        "# set color scheme for the clusters\n",
        "x = np.arange(kclusters)\n",
        "ys = [i + x + (i*x)**2 for i in range(kclusters)]\n",
        "colors_array = cm.rainbow(np.linspace(0, 1, len(ys)))\n",
        "rainbow = [colors.rgb2hex(i) for i in colors_array]\n",
        "\n",
        "# add markers to the map\n",
        "markers_colors = []\n",
        "for lat, lon, poi, cluster in zip(dfToronto['Latitude'], dfToronto['Longitude'], dfToronto['Neighborhood'], \n",
        "                                  dfToronto['Cluster Labels'].astype(int)):\n",
        "    label = folium.Popup(str(poi) + ' Cluster ' + str(cluster), parse_html=True)\n",
        "    folium.CircleMarker(\n",
        "        [lat, lon],\n",
        "        radius=5,\n",
        "        popup=label,\n",
        "        color=rainbow[cluster-1],\n",
        "        fill=True,\n",
        "        fill_color=rainbow[cluster-1],\n",
        "        fill_opacity=0.7).add_to(map_clusters)\n",
        "map_clusters"
      ],
      "execution_count": 0,
      "outputs": []
    },
    {
      "cell_type": "markdown",
      "metadata": {
        "id": "YeTcug9N8WU5",
        "colab_type": "text"
      },
      "source": [
        "# **Part.5 Examining the clusters**"
      ]
    },
    {
      "cell_type": "markdown",
      "metadata": {
        "id": "g2bQ6JrI-dZC",
        "colab_type": "text"
      },
      "source": [
        "Now Examining the Cluster from 0 to 5\n"
      ]
    },
    {
      "cell_type": "markdown",
      "metadata": {
        "id": "TCNdkaF0_H8c",
        "colab_type": "text"
      },
      "source": [
        "Visualization of Cluster 0 . It is shown in red color in the map."
      ]
    },
    {
      "cell_type": "code",
      "metadata": {
        "id": "6akyQECHA89N",
        "colab_type": "code",
        "colab": {}
      },
      "source": [
        "#Cluster 0\n",
        "toronto_merged.loc[toronto_merged['Cluster Labels'] == 0]"
      ],
      "execution_count": 0,
      "outputs": []
    },
    {
      "cell_type": "markdown",
      "metadata": {
        "id": "z6ay2ddFBE6Q",
        "colab_type": "text"
      },
      "source": [
        "Visualization of Cluster 1 . It is shown in It is shown in purple color in the map."
      ]
    },
    {
      "cell_type": "code",
      "metadata": {
        "id": "6hfAGUzFBGVD",
        "colab_type": "code",
        "colab": {}
      },
      "source": [
        " #Cluster 1\n",
        "toronto_merged.loc[toronto_merged['Cluster Labels'] == 1]"
      ],
      "execution_count": 0,
      "outputs": []
    },
    {
      "cell_type": "markdown",
      "metadata": {
        "id": "7Ba432jHBqs7",
        "colab_type": "text"
      },
      "source": [
        "Visualization of Cluster 2"
      ]
    },
    {
      "cell_type": "code",
      "metadata": {
        "id": "GebsKwQrBi4J",
        "colab_type": "code",
        "colab": {}
      },
      "source": [
        " #Cluster 2\n",
        "toronto_merged.loc[toronto_merged['Cluster Labels'] == 2]"
      ],
      "execution_count": 0,
      "outputs": []
    },
    {
      "cell_type": "markdown",
      "metadata": {
        "id": "fLKqbY6WCVz4",
        "colab_type": "text"
      },
      "source": [
        "Visualization of Cluster 3"
      ]
    },
    {
      "cell_type": "code",
      "metadata": {
        "id": "igmSa8d0Bj8e",
        "colab_type": "code",
        "colab": {}
      },
      "source": [
        " #Cluster 3\n",
        "toronto_merged.loc[toronto_merged['Cluster Labels'] == 3]"
      ],
      "execution_count": 0,
      "outputs": []
    },
    {
      "cell_type": "markdown",
      "metadata": {
        "id": "ba1eFj5KCe0t",
        "colab_type": "text"
      },
      "source": [
        "Visualization of Cluster 4"
      ]
    },
    {
      "cell_type": "code",
      "metadata": {
        "id": "6Jsll0DqBkwr",
        "colab_type": "code",
        "colab": {}
      },
      "source": [
        " #Cluster 4\n",
        "toronto_merged.loc[toronto_merged['Cluster Labels'] == 4]"
      ],
      "execution_count": 0,
      "outputs": []
    },
    {
      "cell_type": "markdown",
      "metadata": {
        "id": "qnsOGv5SCwix",
        "colab_type": "text"
      },
      "source": [
        "Visualization of Cluster 5"
      ]
    },
    {
      "cell_type": "code",
      "metadata": {
        "id": "ArZm8VouBlew",
        "colab_type": "code",
        "colab": {}
      },
      "source": [
        " #Cluster 5\n",
        "toronto_merged.loc[toronto_merged['Cluster Labels'] == 5]"
      ],
      "execution_count": 0,
      "outputs": []
    }
  ]
}